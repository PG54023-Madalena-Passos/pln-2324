{
 "cells": [
  {
   "cell_type": "markdown",
   "metadata": {},
   "source": [
    "## Ficha 7_PLN 23/24\n",
    "PG54023- Madalena Passos"
   ]
  },
  {
   "cell_type": "code",
   "execution_count": 1,
   "metadata": {},
   "outputs": [
    {
     "name": "stderr",
     "output_type": "stream",
     "text": [
      "C:\\Users\\Carla Passos\\anaconda3\\lib\\site-packages\\scipy\\__init__.py:173: UserWarning: A NumPy version >=1.19.5 and <1.27.0 is required for this version of SciPy (detected version 1.19.2)\n",
      "  warnings.warn(f\"A NumPy version >={np_minversion} and <{np_maxversion}\"\n"
     ]
    }
   ],
   "source": [
    "import re\n",
    "from gensim.models import Word2Vec\n",
    "from nltk.tokenize import word_tokenize\n",
    "\n",
    "\n",
    "f1 = open(\"C:\\\\Users\\\\Carla Passos\\\\Desktop\\\\MIEBIOM\\\\PLN\\\\aulas\\\\documentos\\\\Harry_Potter_Camara_Secreta-br.txt\", encoding=\"utf-8\")\n",
    "f2 = open(\"C:\\\\Users\\\\Carla Passos\\\\Desktop\\\\MIEBIOM\\\\PLN\\\\aulas\\\\documentos\\\\Harry_Potter_e_A_Pedra_Filosofal.txt\", encoding=\"utf-8\")\n",
    "\n",
    "# Livro 1 - Harry_Potter_Camara_Secreta\n",
    "harry_text1=f1.read()\n",
    "\n",
    "tokens1=[]\n",
    "linhas1=harry_text1.split(\"\\n\")\n",
    "\n",
    "for linha in linhas1:\n",
    "    #linha = re.sub(r\"[!?\\.]*\", r\"\", linha)\n",
    "    tokens1.append(word_tokenize(linha.lower()))\n",
    "    #tokens.append(linha.split())\n",
    "\n",
    "# Livro 2 - Harry_Potter_e_A_Pedra_Filosofal\n",
    "harry_text2=f2.read()\n",
    "\n",
    "tokens2=[]\n",
    "linhas2=harry_text2.split(\"\\n\")\n",
    "\n",
    "for linha in linhas2:\n",
    "    tokens2.append(word_tokenize(linha.lower()))\n",
    "\n",
    "# Junção dos dois livros\n",
    "tokensLM=[]\n",
    "texto_compilado=harry_text1 + \"\\n\" + harry_text2\n",
    "texto_compilado_linhas=texto_compilado.split(\"\\n\")\n",
    "\n",
    "for linha in texto_compilado_linhas:\n",
    "    tokensLM.append(word_tokenize(linha.lower()))\n"
   ]
  },
  {
   "cell_type": "code",
   "execution_count": 2,
   "metadata": {},
   "outputs": [],
   "source": [
    "# Criar modelo para o livro 1\n",
    "model1=Word2Vec(tokens1, vector_size=300, window=5, min_count=1, sg=1, epochs=22, workers=3)\n",
    "model1.save(\"HP1word2vec.model\")"
   ]
  },
  {
   "cell_type": "code",
   "execution_count": 3,
   "metadata": {},
   "outputs": [],
   "source": [
    "# Criar modelo para livro 2\n",
    "model2=Word2Vec(tokens2, vector_size=300, window=5, min_count=1, sg=1, epochs=22, workers=3)\n",
    "model2.save(\"HP2word2vec.model\")"
   ]
  },
  {
   "cell_type": "code",
   "execution_count": 4,
   "metadata": {},
   "outputs": [],
   "source": [
    "# Criar modelo para livro compilado\n",
    "model3=Word2Vec(tokensLM, vector_size=300, window=5, min_count=1, sg=1, epochs=22, workers=3)\n",
    "model3.save(\"HP_LC_word2vec.model\")"
   ]
  },
  {
   "cell_type": "code",
   "execution_count": 5,
   "metadata": {},
   "outputs": [
    {
     "name": "stdout",
     "output_type": "stream",
     "text": [
      "------------- Livro 1 ------------\n",
      " [('desesperado', 0.5734260082244873), ('mudando', 0.5578562617301941), ('portão', 0.5530917644500732), ('cujos', 0.5513190031051636), ('manhoso', 0.5506564378738403), ('autorização', 0.5489460825920105), ('abruptamente', 0.5484536290168762), ('evitá-lo', 0.5483723282814026), ('controlar', 0.5483363270759583), ('ansiosa', 0.5465202331542969)]\n",
      "------------- Livro 2 ------------\n",
      " [('rony', 0.5851518511772156), ('firenze', 0.5761771202087402), ('levando-o', 0.5729517936706543), ('lentamente', 0.5703909397125244), ('desvencilhar', 0.5671396255493164), ('seca', 0.5611169934272766), ('alegria', 0.5589391589164734), ('contava', 0.5585637092590332), ('uau', 0.5580956339836121), ('escondendo', 0.5575087666511536)]\n",
      "------------- Livro Compilado ------------\n",
      " [('sonolento', 0.5497577786445618), ('firenze', 0.5339052677154541), ('desanimar', 0.5226432085037231), ('portão', 0.5211529731750488), ('manhoso', 0.5193026661872864), ('esticando-se', 0.518942654132843), ('alegria', 0.5164275169372559), ('horário', 0.5148712396621704), ('mudando', 0.5132705569267273), ('autorização', 0.5125131011009216)]\n"
     ]
    }
   ],
   "source": [
    "# Verificar palavras mais associadas a Harry\n",
    "v1=model1.wv.most_similar('harry')\n",
    "print(\"------------- Livro 1 ------------\\n\",v1)\n",
    "v2=model2.wv.most_similar('harry')\n",
    "print(\"------------- Livro 2 ------------\\n\",v2)\n",
    "vLC=model3.wv.most_similar('harry')\n",
    "print(\"------------- Livro Compilado ------------\\n\",vLC)"
   ]
  },
  {
   "cell_type": "code",
   "execution_count": 6,
   "metadata": {},
   "outputs": [
    {
     "data": {
      "image/png": "[encoded data removed]",
      "text/plain": [
       "<Figure size 1080x432 with 3 Axes>"
      ]
     },
     "metadata": {
      "needs_background": "light"
     },
     "output_type": "display_data"
    }
   ],
   "source": [
    "import matplotlib.pyplot as plt\n",
    "\n",
    "words1, sims1 = zip(*v1)\n",
    "words2, sims2 = zip(*v2)\n",
    "wordsLC, simsLC = zip(*vLC)\n",
    "\n",
    "# Gráfico\n",
    "plt.figure(figsize=(15, 6))\n",
    "\n",
    "plt.subplot(1, 3, 1)\n",
    "plt.barh(words1, sims1, color='#f55142')\n",
    "plt.xlabel('Similarity Score')\n",
    "plt.title('Palavras mais próximas a \"harry\" no Livro 1')\n",
    "\n",
    "plt.subplot(1, 3, 2)\n",
    "plt.barh(words2, sims2, color='#b7f763')\n",
    "plt.xlabel('Similarity Score')\n",
    "plt.title('Palavras mais próximas a \"harry\" no Livro 2')\n",
    "\n",
    "plt.subplot(1, 3, 3)\n",
    "plt.barh(wordsLC, simsLC, color='#7ea6fc')\n",
    "plt.xlabel('Similarity Score')\n",
    "plt.title('Palavras mais próximas a \"harry\" no Livro Compilado')\n",
    "\n",
    "plt.tight_layout()\n",
    "plt.show()"
   ]
  },
  {
   "cell_type": "code",
   "execution_count": 7,
   "metadata": {},
   "outputs": [
    {
     "name": "stdout",
     "output_type": "stream",
     "text": [
      "------------- Livro 1 ------------\n",
      " [('açulou', 0.9111806154251099), ('símbolo', 0.9056043028831482), ('furara', 0.9038861393928528), ('construiu', 0.8992632031440735), ('ligado', 0.8951857089996338), ('raro', 0.8940082788467407), ('internacional', 0.8916890621185303), ('confederação', 0.8835007548332214), ('provas', 0.8834303021430969), ('fecho', 0.882946252822876)]\n",
      "------------- Livro 2 ------------\n",
      " [('cálices', 0.951727032661438), ('inverno', 0.9500989317893982), ('irregulares', 0.9441525936126709), ('pegajoso', 0.9438872933387756), ('lascadas', 0.9427000880241394), ('neve', 0.9421921968460083), ('serpeava', 0.9420275092124939), ('fresca', 0.9416079521179199), ('xerez', 0.9414944648742676), ('turistas', 0.9402651190757751)]\n",
      "------------- Livro Compilado ------------\n",
      " [('açulou', 0.8179201483726501), ('bandeira', 0.8101217150688171), ('liga', 0.8074361085891724), ('leão', 0.7935207486152649), ('furara', 0.7913514971733093), ('encolhiam', 0.7871251106262207), ('escova', 0.783109188079834), ('símbolo', 0.7825674414634705), ('produção', 0.7801781296730042), ('honorário', 0.774861752986908)]\n"
     ]
    }
   ],
   "source": [
    "# Verificar palavras mais associadas a serpente\n",
    "\n",
    "v1=model1.wv.most_similar('serpente')\n",
    "print(\"------------- Livro 1 ------------\\n\",v1)\n",
    "v2=model2.wv.most_similar('serpente')\n",
    "print(\"------------- Livro 2 ------------\\n\",v2)\n",
    "vLC=model3.wv.most_similar('serpente')\n",
    "print(\"------------- Livro Compilado ------------\\n\",vLC)"
   ]
  },
  {
   "cell_type": "code",
   "execution_count": 8,
   "metadata": {},
   "outputs": [
    {
     "data": {
      "image/png": "[encoded data removed]",
      "text/plain": [
       "<Figure size 1080x432 with 3 Axes>"
      ]
     },
     "metadata": {
      "needs_background": "light"
     },
     "output_type": "display_data"
    }
   ],
   "source": [
    "import matplotlib.pyplot as plt\n",
    "\n",
    "words1, sims1 = zip(*v1)\n",
    "words2, sims2 = zip(*v2)\n",
    "wordsLC, simsLC = zip(*vLC)\n",
    "\n",
    "# Gráfico\n",
    "plt.figure(figsize=(15, 6))\n",
    "\n",
    "plt.subplot(1, 3, 1)\n",
    "plt.barh(words1, sims1, color='#f55142')\n",
    "plt.xlabel('Similarity Score')\n",
    "plt.title('Palavras mais próximas a \"serpente\" no Livro 1')\n",
    "\n",
    "plt.subplot(1, 3, 2)\n",
    "plt.barh(words2, sims2, color='#b7f763')\n",
    "plt.xlabel('Similarity Score')\n",
    "plt.title('Palavras mais próximas a \"serpente\" no Livro 2')\n",
    "\n",
    "plt.subplot(1, 3, 3)\n",
    "plt.barh(wordsLC, simsLC, color='#7ea6fc')\n",
    "plt.xlabel('Similarity Score')\n",
    "plt.title('Palavras mais próximas a \"serpente\" no Livro Compilado')\n",
    "\n",
    "plt.tight_layout()\n",
    "plt.show()"
   ]
  },
  {
   "cell_type": "code",
   "execution_count": 9,
   "metadata": {},
   "outputs": [
    {
     "name": "stdout",
     "output_type": "stream",
     "text": [
      "--------Livro 1--------\n",
      "harry \t você-sabe-quem \t 0.47\n",
      "hermione \t rony \t 0.42\n",
      "--------Livro 2--------\n",
      "harry \t você-sabe-quem \t 0.34\n",
      "hermione \t rony \t 0.51\n",
      "--------Livro Compilado--------\n",
      "harry \t você-sabe-quem \t 0.29\n",
      "hermione \t rony \t 0.33\n"
     ]
    }
   ],
   "source": [
    "# Verificar as associações harry/você-sabe-quem e hermione/rony nos dois livros\n",
    "\n",
    "pares=[('harry', 'você-sabe-quem'), ('hermione', 'rony')]\n",
    "\n",
    "print(\"--------Livro 1--------\")\n",
    "for w1, w2 in pares:\n",
    "    print('%s \\t %s \\t% .2f' %(w1, w2, model1.wv.similarity(w1, w2)))\n",
    "\n",
    "print(\"--------Livro 2--------\")\n",
    "for w1, w2 in pares:\n",
    "    print('%s \\t %s \\t% .2f' %(w1, w2, model2.wv.similarity(w1, w2)))\n",
    "    \n",
    "print(\"--------Livro Compilado--------\")\n",
    "for w1, w2 in pares:\n",
    "    print('%s \\t %s \\t% .2f' %(w1, w2, model3.wv.similarity(w1, w2)))"
   ]
  },
  {
   "cell_type": "code",
   "execution_count": 10,
   "metadata": {},
   "outputs": [
    {
     "name": "stdout",
     "output_type": "stream",
     "text": [
      "--------Livro 1--------\n",
      " voldemort\n",
      "--------Livro 2--------\n",
      " harry\n",
      "--------Livro Compilado--------\n",
      " voldemort\n"
     ]
    }
   ],
   "source": [
    "# Averiguar o \"intruso\"\n",
    "\n",
    "v1=model1.wv.doesnt_match([\"harry\", \"frigideira\", \"voldemort\"])\n",
    "print(\"--------Livro 1--------\\n\", v1)\n",
    "\n",
    "v2=model2.wv.doesnt_match([\"harry\", \"frigideira\", \"voldemort\"])\n",
    "print(\"--------Livro 2--------\\n\", v2)\n",
    "\n",
    "v3=model3.wv.doesnt_match([\"harry\", \"frigideira\", \"voldemort\"])\n",
    "print(\"--------Livro Compilado--------\\n\", v3)"
   ]
  },
  {
   "cell_type": "code",
   "execution_count": 11,
   "metadata": {},
   "outputs": [
    {
     "name": "stdout",
     "output_type": "stream",
     "text": [
      "--------Livro 1--------\n",
      " ('satisfeito', 0.4344090521335602)\n",
      "--------Livro 2--------\n",
      " ('firenze', 0.404512494802475)\n",
      "--------Livro Compilado--------\n",
      " ('repente', 0.40261217951774597)\n"
     ]
    }
   ],
   "source": [
    "# Averiguar a relação entre harry e rony sem hermione\n",
    "\n",
    "v1=model1.wv.most_similar(positive=[\"harry\", \"rony\"], negative=[\"hermione\"])\n",
    "print(\"--------Livro 1--------\\n\", v1[0])\n",
    "\n",
    "v2=model2.wv.most_similar(positive=[\"harry\", \"rony\"], negative=[\"hermione\"])\n",
    "print(\"--------Livro 2--------\\n\", v2[0])\n",
    "\n",
    "v3=model3.wv.most_similar(positive=[\"harry\", \"rony\"], negative=[\"hermione\"])\n",
    "print(\"--------Livro Compilado--------\\n\", v3[0])"
   ]
  },
  {
   "cell_type": "code",
   "execution_count": 12,
   "metadata": {},
   "outputs": [],
   "source": [
    "# Averiguar analogia mais forte entre harry e rony sem hermione\n",
    "\n",
    "def analogy(x2, y1, x1, mX):\n",
    "    model=mX\n",
    "    result=model.wv.most_similar(positive=[y1, x2], negative=[x1])\n",
    "    return (result[0][0])"
   ]
  },
  {
   "cell_type": "code",
   "execution_count": 13,
   "metadata": {},
   "outputs": [
    {
     "name": "stdout",
     "output_type": "stream",
     "text": [
      "--------Livro 1--------\n",
      " satisfeito\n",
      "--------Livro 2--------\n",
      " firenze\n",
      "--------Livro Compilado--------\n",
      " repente\n"
     ]
    }
   ],
   "source": [
    "print(\"--------Livro 1--------\\n\", analogy(\"harry\",\"rony\",\"hermione\",model1))\n",
    "print(\"--------Livro 2--------\\n\", analogy(\"harry\",\"rony\",\"hermione\",model2))\n",
    "print(\"--------Livro Compilado--------\\n\", analogy(\"harry\",\"rony\",\"hermione\",model3))"
   ]
  }
 ],
 "metadata": {
  "kernelspec": {
   "display_name": "Python 3",
   "language": "python",
   "name": "python3"
  },
  "language_info": {
   "codemirror_mode": {
    "name": "ipython",
    "version": 3
   },
   "file_extension": ".py",
   "mimetype": "text/x-python",
   "name": "python",
   "nbconvert_exporter": "python",
   "pygments_lexer": "ipython3",
   "version": "3.8.5"
  }
 },
 "nbformat": 4,
 "nbformat_minor": 4
}
